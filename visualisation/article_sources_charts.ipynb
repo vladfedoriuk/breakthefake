{
 "cells": [
  {
   "cell_type": "code",
   "execution_count": 2,
   "id": "c2c1eb1b-2aad-424b-a865-633f4039f5fc",
   "metadata": {},
   "outputs": [],
   "source": [
    "import pandas as pd"
   ]
  },
  {
   "cell_type": "code",
   "execution_count": 3,
   "id": "7a664ca3-184d-4209-9d68-f27fe8811a08",
   "metadata": {},
   "outputs": [],
   "source": [
    "df = pd.read_csv('c:\\\\Users\\\\piotr\\\\PycharmProjects\\\\article_aggregator_frontend\\\\breakthefake\\\\data\\\\database.csv', lineterminator='\\n')"
   ]
  },
  {
   "cell_type": "code",
   "execution_count": 10,
   "id": "4fde0960-79a2-446e-9e13-cb6e70a4f475",
   "metadata": {},
   "outputs": [
    {
     "data": {
      "text/plain": [
       "'adfsa'"
      ]
     },
     "execution_count": 10,
     "metadata": {},
     "output_type": "execute_result"
    }
   ],
   "source": [
    "' adfsa   '.strip()"
   ]
  },
  {
   "cell_type": "code",
   "execution_count": 9,
   "id": "0864e75a-03dc-4d48-99d2-56ed94f2034f",
   "metadata": {},
   "outputs": [
    {
     "data": {
      "text/plain": [
       "['ab', ' cd', ' ef']"
      ]
     },
     "execution_count": 9,
     "metadata": {},
     "output_type": "execute_result"
    }
   ],
   "source": [
    "'ab, cd, ef'.split(',')"
   ]
  },
  {
   "cell_type": "code",
   "execution_count": 15,
   "id": "494d106a-0271-433f-9ba2-eaffab882d2a",
   "metadata": {},
   "outputs": [
    {
     "data": {
      "text/plain": [
       "array(['Administracja', 'Finanse publiczne', nan, 'KPO', 'Podatki',\n",
       "       'Ministerstwo Finansów, Finanse publiczne, Podatki',\n",
       "       'Ministerstwo Finansów, Podatki', 'Ministerstwo Finansów',\n",
       "       'Finanse publiczne, Podatki', 'Finanse publiczne, Podatki, KPO',\n",
       "       'Ministerstwo Finansów, Podatki, Administracja, Projekty',\n",
       "       'Ministerstwo Finansów, Administracja', 'Instytucje',\n",
       "       'Finanse publiczne, Przedstawiciele MF', 'Podatki, Instytucje',\n",
       "       'Podatki, KPO', 'Podatki, Administracja',\n",
       "       'Finanse publiczne, Administracja',\n",
       "       'Finanse publiczne, Podatki, Przedstawiciele MF', 'Projekty',\n",
       "       'Ministerstwo Finansów, Podatki, Administracja',\n",
       "       'Ministerstwo Finansów, Finanse publiczne, Instytucje, Przedstawiciele MF',\n",
       "       'Ministerstwo Finansów, Finanse publiczne, Administracja',\n",
       "       'Finanse publiczne, KPO',\n",
       "       'Ministerstwo Finansów, Finanse publiczne, Podatki, Przedstawiciele MF',\n",
       "       'Podatki, Projekty',\n",
       "       'Ministerstwo Finansów, Finanse publiczne, Podatki, Administracja',\n",
       "       'Finanse publiczne, Podatki, Administracja',\n",
       "       'Ministerstwo Finansów, Finanse publiczne, Podatki, KPO, Przedstawiciele MF',\n",
       "       'Ministerstwo Finansów, Finanse publiczne, Administracja, Przedstawiciele MF',\n",
       "       'Ministerstwo Finansów, Finanse publiczne, Podatki, Administracja, KPO, Instytucje, Przedstawiciele MF',\n",
       "       'Ministerstwo Finansów, Finanse publiczne, Podatki, Administracja, Instytucje',\n",
       "       'Finanse publiczne, Instytucje',\n",
       "       'Ministerstwo Finansów, Finanse publiczne, Podatki, Projekty, Instytucje, Przedstawiciele MF',\n",
       "       'Ministerstwo Finansów, Finanse publiczne, Podatki, Administracja, Przedstawiciele MF',\n",
       "       'Ministerstwo Finansów, Finanse publiczne, Przedstawiciele MF',\n",
       "       'Ministerstwo Finansów, Finanse publiczne, Podatki, Administracja, Instytucje, Przedstawiciele MF',\n",
       "       'Administracja, KPO', 'Podatki, Projekty, Instytucje',\n",
       "       'Ministerstwo Finansów, Finanse publiczne',\n",
       "       'Ministerstwo Finansów, Finanse publiczne, Podatki, Instytucje',\n",
       "       'Ministerstwo Finansów, Podatki, Przedstawiciele MF',\n",
       "       'Przedstawiciele MF', 'Podatki, Przedstawiciele MF',\n",
       "       'Administracja, Przedstawiciele MF', 'Podatki, Administracja, KPO',\n",
       "       'Podatki, Administracja, Projekty',\n",
       "       'Ministerstwo Finansów, Projekty',\n",
       "       'Ministerstwo Finansów, Przedstawiciele MF',\n",
       "       'KPO, Przedstawiciele MF',\n",
       "       'Ministerstwo Finansów, Finanse publiczne, Podatki, Projekty',\n",
       "       'Finanse publiczne, Administracja, KPO, Przedstawiciele MF',\n",
       "       'Finanse publiczne, Administracja, Projekty',\n",
       "       'Finanse publiczne, Podatki, Administracja, Instytucje',\n",
       "       'Ministerstwo Finansów, KPO',\n",
       "       'Finanse publiczne, Podatki, Administracja, Projekty',\n",
       "       'Finanse publiczne, Projekty',\n",
       "       'Finanse publiczne, Podatki, Projekty',\n",
       "       'Ministerstwo Finansów, Instytucje',\n",
       "       'Finanse publiczne, Podatki, Instytucje',\n",
       "       'Ministerstwo Finansów, Finanse publiczne, KPO',\n",
       "       'Finanse publiczne, Administracja, KPO',\n",
       "       'Ministerstwo Finansów, Finanse publiczne, Instytucje',\n",
       "       'Podatki, Administracja, Instytucje',\n",
       "       'Ministerstwo Finansów, Podatki, Projekty',\n",
       "       'Ministerstwo Finansów, Finanse publiczne, Podatki, Projekty, Przedstawiciele MF',\n",
       "       'Ministerstwo Finansów, Podatki, KPO, Przedstawiciele MF',\n",
       "       'Ministerstwo Finansów, Podatki, Instytucje',\n",
       "       'Ministerstwo Finansów, Administracja, Instytucje',\n",
       "       'Administracja, Instytucje', 'Projekty, Instytucje',\n",
       "       'Podatki, KPO, Instytucje',\n",
       "       'Finanse publiczne, Administracja, Instytucje',\n",
       "       'Ministerstwo Finansów, Finanse publiczne, Projekty, Instytucje',\n",
       "       'Finanse publiczne, Podatki, Projekty, Instytucje',\n",
       "       'Ministerstwo Finansów, Instytucje, Przedstawiciele MF',\n",
       "       'Podatki, KPO, Projekty',\n",
       "       'Ministerstwo Finansów, Finanse publiczne, Podatki, Administracja, Projekty, Instytucje',\n",
       "       'Ministerstwo Finansów, Projekty, Instytucje, Przedstawiciele MF',\n",
       "       'Ministerstwo Finansów, Podatki, KPO',\n",
       "       'Instytucje, Przedstawiciele MF',\n",
       "       'Ministerstwo Finansów, Finanse publiczne, Administracja, Instytucje',\n",
       "       'Finanse publiczne, Podatki, KPO, Projekty',\n",
       "       'Finanse publiczne, KPO, Projekty',\n",
       "       'Ministerstwo Finansów, Administracja, KPO, Instytucje',\n",
       "       'Ministerstwo Finansów, Podatki, Administracja, Instytucje',\n",
       "       'Projekty, Przedstawiciele MF',\n",
       "       'Ministerstwo Finansów, Finanse publiczne, Podatki, Projekty, Instytucje',\n",
       "       'KPO, Instytucje',\n",
       "       'Ministerstwo Finansów, Podatki, Projekty, Przedstawiciele MF',\n",
       "       'Finanse publiczne, KPO, Projekty, Instytucje',\n",
       "       'Ministerstwo Finansów, Administracja, Projekty, Instytucje',\n",
       "       'Finanse publiczne, Projekty, Instytucje',\n",
       "       'Ministerstwo Finansów, Finanse publiczne, KPO, Projekty, Instytucje, Przedstawiciele MF',\n",
       "       'Administracja, Projekty', 'Finanse publiczne, KPO, Instytucje',\n",
       "       'Ministerstwo Finansów, Finanse publiczne, Projekty',\n",
       "       'Ministerstwo Finansów, Finanse publiczne, Podatki, Instytucje, Przedstawiciele MF',\n",
       "       'KPO, Projekty',\n",
       "       'Ministerstwo Finansów, Finanse publiczne, Podatki, KPO, Instytucje',\n",
       "       'Ministerstwo Finansów, Finanse publiczne, Podatki, KPO',\n",
       "       'Finanse publiczne, Podatki, Administracja, Instytucje, Przedstawiciele MF',\n",
       "       'Finanse publiczne, Podatki, Projekty, Instytucje, Przedstawiciele MF',\n",
       "       'Administracja, KPO, Instytucje',\n",
       "       'Ministerstwo Finansów, Podatki, Administracja, Przedstawiciele MF',\n",
       "       'Ministerstwo Finansów, Finanse publiczne, Podatki, KPO, Projekty',\n",
       "       'Finanse publiczne, Instytucje, Przedstawiciele MF',\n",
       "       'Administracja, Projekty, Instytucje',\n",
       "       'Ministerstwo Finansów, Finanse publiczne, KPO, Projekty',\n",
       "       'Ministerstwo Finansów, Finanse publiczne, Administracja, Projekty, Instytucje',\n",
       "       'Ministerstwo Finansów, Finanse publiczne, Administracja, Instytucje, Przedstawiciele MF'],\n",
       "      dtype=object)"
      ]
     },
     "execution_count": 15,
     "metadata": {},
     "output_type": "execute_result"
    }
   ],
   "source": [
    "df['categories'].unique()"
   ]
  },
  {
   "cell_type": "code",
   "execution_count": 12,
   "id": "12603c7d-a202-44bb-8c69-3364bb234078",
   "metadata": {},
   "outputs": [
    {
     "data": {
      "text/plain": [
       "['ab', 'bc', 'deffd', 'fdf']"
      ]
     },
     "execution_count": 12,
     "metadata": {},
     "output_type": "execute_result"
    }
   ],
   "source": [
    "split_strip('ab, bc, deffd, fdf')"
   ]
  },
  {
   "cell_type": "code",
   "execution_count": 8,
   "id": "3b4e07a1-e7dd-45ec-8418-d7579f4fa142",
   "metadata": {},
   "outputs": [
    {
     "data": {
      "text/plain": [
       "array(['Administracja', 'Finanse publiczne', nan, 'KPO', 'Podatki',\n",
       "       'Ministerstwo Finansów, Finanse publiczne, Podatki',\n",
       "       'Ministerstwo Finansów, Podatki', 'Ministerstwo Finansów',\n",
       "       'Finanse publiczne, Podatki', 'Finanse publiczne, Podatki, KPO',\n",
       "       'Ministerstwo Finansów, Podatki, Administracja, Projekty',\n",
       "       'Ministerstwo Finansów, Administracja', 'Instytucje',\n",
       "       'Finanse publiczne, Przedstawiciele MF', 'Podatki, Instytucje',\n",
       "       'Podatki, KPO', 'Podatki, Administracja',\n",
       "       'Finanse publiczne, Administracja',\n",
       "       'Finanse publiczne, Podatki, Przedstawiciele MF', 'Projekty',\n",
       "       'Ministerstwo Finansów, Podatki, Administracja',\n",
       "       'Ministerstwo Finansów, Finanse publiczne, Instytucje, Przedstawiciele MF',\n",
       "       'Ministerstwo Finansów, Finanse publiczne, Administracja',\n",
       "       'Finanse publiczne, KPO',\n",
       "       'Ministerstwo Finansów, Finanse publiczne, Podatki, Przedstawiciele MF',\n",
       "       'Podatki, Projekty',\n",
       "       'Ministerstwo Finansów, Finanse publiczne, Podatki, Administracja',\n",
       "       'Finanse publiczne, Podatki, Administracja',\n",
       "       'Ministerstwo Finansów, Finanse publiczne, Podatki, KPO, Przedstawiciele MF',\n",
       "       'Ministerstwo Finansów, Finanse publiczne, Administracja, Przedstawiciele MF',\n",
       "       'Ministerstwo Finansów, Finanse publiczne, Podatki, Administracja, KPO, Instytucje, Przedstawiciele MF',\n",
       "       'Ministerstwo Finansów, Finanse publiczne, Podatki, Administracja, Instytucje',\n",
       "       'Finanse publiczne, Instytucje',\n",
       "       'Ministerstwo Finansów, Finanse publiczne, Podatki, Projekty, Instytucje, Przedstawiciele MF',\n",
       "       'Ministerstwo Finansów, Finanse publiczne, Podatki, Administracja, Przedstawiciele MF',\n",
       "       'Ministerstwo Finansów, Finanse publiczne, Przedstawiciele MF',\n",
       "       'Ministerstwo Finansów, Finanse publiczne, Podatki, Administracja, Instytucje, Przedstawiciele MF',\n",
       "       'Administracja, KPO', 'Podatki, Projekty, Instytucje',\n",
       "       'Ministerstwo Finansów, Finanse publiczne',\n",
       "       'Ministerstwo Finansów, Finanse publiczne, Podatki, Instytucje',\n",
       "       'Ministerstwo Finansów, Podatki, Przedstawiciele MF',\n",
       "       'Przedstawiciele MF', 'Podatki, Przedstawiciele MF',\n",
       "       'Administracja, Przedstawiciele MF', 'Podatki, Administracja, KPO',\n",
       "       'Podatki, Administracja, Projekty',\n",
       "       'Ministerstwo Finansów, Projekty',\n",
       "       'Ministerstwo Finansów, Przedstawiciele MF',\n",
       "       'KPO, Przedstawiciele MF',\n",
       "       'Ministerstwo Finansów, Finanse publiczne, Podatki, Projekty',\n",
       "       'Finanse publiczne, Administracja, KPO, Przedstawiciele MF',\n",
       "       'Finanse publiczne, Administracja, Projekty',\n",
       "       'Finanse publiczne, Podatki, Administracja, Instytucje',\n",
       "       'Ministerstwo Finansów, KPO',\n",
       "       'Finanse publiczne, Podatki, Administracja, Projekty',\n",
       "       'Finanse publiczne, Projekty',\n",
       "       'Finanse publiczne, Podatki, Projekty',\n",
       "       'Ministerstwo Finansów, Instytucje',\n",
       "       'Finanse publiczne, Podatki, Instytucje',\n",
       "       'Ministerstwo Finansów, Finanse publiczne, KPO',\n",
       "       'Finanse publiczne, Administracja, KPO',\n",
       "       'Ministerstwo Finansów, Finanse publiczne, Instytucje',\n",
       "       'Podatki, Administracja, Instytucje',\n",
       "       'Ministerstwo Finansów, Podatki, Projekty',\n",
       "       'Ministerstwo Finansów, Finanse publiczne, Podatki, Projekty, Przedstawiciele MF',\n",
       "       'Ministerstwo Finansów, Podatki, KPO, Przedstawiciele MF',\n",
       "       'Ministerstwo Finansów, Podatki, Instytucje',\n",
       "       'Ministerstwo Finansów, Administracja, Instytucje',\n",
       "       'Administracja, Instytucje', 'Projekty, Instytucje',\n",
       "       'Podatki, KPO, Instytucje',\n",
       "       'Finanse publiczne, Administracja, Instytucje',\n",
       "       'Ministerstwo Finansów, Finanse publiczne, Projekty, Instytucje',\n",
       "       'Finanse publiczne, Podatki, Projekty, Instytucje',\n",
       "       'Ministerstwo Finansów, Instytucje, Przedstawiciele MF',\n",
       "       'Podatki, KPO, Projekty',\n",
       "       'Ministerstwo Finansów, Finanse publiczne, Podatki, Administracja, Projekty, Instytucje',\n",
       "       'Ministerstwo Finansów, Projekty, Instytucje, Przedstawiciele MF',\n",
       "       'Ministerstwo Finansów, Podatki, KPO',\n",
       "       'Instytucje, Przedstawiciele MF',\n",
       "       'Ministerstwo Finansów, Finanse publiczne, Administracja, Instytucje',\n",
       "       'Finanse publiczne, Podatki, KPO, Projekty',\n",
       "       'Finanse publiczne, KPO, Projekty',\n",
       "       'Ministerstwo Finansów, Administracja, KPO, Instytucje',\n",
       "       'Ministerstwo Finansów, Podatki, Administracja, Instytucje',\n",
       "       'Projekty, Przedstawiciele MF',\n",
       "       'Ministerstwo Finansów, Finanse publiczne, Podatki, Projekty, Instytucje',\n",
       "       'KPO, Instytucje',\n",
       "       'Ministerstwo Finansów, Podatki, Projekty, Przedstawiciele MF',\n",
       "       'Finanse publiczne, KPO, Projekty, Instytucje',\n",
       "       'Ministerstwo Finansów, Administracja, Projekty, Instytucje',\n",
       "       'Finanse publiczne, Projekty, Instytucje',\n",
       "       'Ministerstwo Finansów, Finanse publiczne, KPO, Projekty, Instytucje, Przedstawiciele MF',\n",
       "       'Administracja, Projekty', 'Finanse publiczne, KPO, Instytucje',\n",
       "       'Ministerstwo Finansów, Finanse publiczne, Projekty',\n",
       "       'Ministerstwo Finansów, Finanse publiczne, Podatki, Instytucje, Przedstawiciele MF',\n",
       "       'KPO, Projekty',\n",
       "       'Ministerstwo Finansów, Finanse publiczne, Podatki, KPO, Instytucje',\n",
       "       'Ministerstwo Finansów, Finanse publiczne, Podatki, KPO',\n",
       "       'Finanse publiczne, Podatki, Administracja, Instytucje, Przedstawiciele MF',\n",
       "       'Finanse publiczne, Podatki, Projekty, Instytucje, Przedstawiciele MF',\n",
       "       'Administracja, KPO, Instytucje',\n",
       "       'Ministerstwo Finansów, Podatki, Administracja, Przedstawiciele MF',\n",
       "       'Ministerstwo Finansów, Finanse publiczne, Podatki, KPO, Projekty',\n",
       "       'Finanse publiczne, Instytucje, Przedstawiciele MF',\n",
       "       'Administracja, Projekty, Instytucje',\n",
       "       'Ministerstwo Finansów, Finanse publiczne, KPO, Projekty',\n",
       "       'Ministerstwo Finansów, Finanse publiczne, Administracja, Projekty, Instytucje',\n",
       "       'Ministerstwo Finansów, Finanse publiczne, Administracja, Instytucje, Przedstawiciele MF'],\n",
       "      dtype=object)"
      ]
     },
     "execution_count": 8,
     "metadata": {},
     "output_type": "execute_result"
    }
   ],
   "source": [
    "df['categories'].unique()"
   ]
  },
  {
   "cell_type": "code",
   "execution_count": 8,
   "id": "9dac9c59-08fd-436f-b63e-807e88be3532",
   "metadata": {},
   "outputs": [
    {
     "data": {
      "text/plain": [
       "array(['  \\xa0 źródło: PAP   ', '  \\xa0 źródło: PAP, Twitter   ',\n",
       "       '  \\xa0 źródło: IAR, Twitter   ', '  \\xa0 źródło: IAR   ',\n",
       "       '  \\xa0 źródło: KPRP, Twitter   ',\n",
       "       '  \\xa0 źródło: PAP, IAR, Twitter   ', '  \\xa0 źródło: KPRM   ',\n",
       "       '  \\xa0 źródło: sejm.gov.pl   ', '  \\xa0 źródło: KPRP   ',\n",
       "       '  \\xa0 źródło: IAR, PAP   ', '  \\xa0 źródło: PAP, Facebook   ',\n",
       "       '  \\xa0 źródło: PAP, IAR   ',\n",
       "       '  \\xa0 źródło: senat.gov.pl, Twitter   ',\n",
       "       '  \\xa0 źródło: KPRP, IAR, Twitter   ', '   ',\n",
       "       '  \\xa0 źródło: PAP., Twitter   ', '  \\xa0 źródło: PAP, KPRP   ',\n",
       "       '  \\xa0 źródło: PAP, KPRP, Twitter   ',\n",
       "       '  \\xa0 źródło: KPRP, PAP, IAR, Twitter   ',\n",
       "       '  \\xa0 źródło: KAI   ', '  \\xa0 źródło: KPRP, PAP, Twitter   ',\n",
       "       'wp.pl', 'pch24.pl', nan], dtype=object)"
      ]
     },
     "execution_count": 8,
     "metadata": {},
     "output_type": "execute_result"
    }
   ],
   "source": [
    "df['claimed_source'].unique()"
   ]
  },
  {
   "cell_type": "code",
   "execution_count": 13,
   "id": "b7290c75-9f95-4530-9ef6-1f2dbec11b26",
   "metadata": {},
   "outputs": [],
   "source": [
    "df_grouped = df.groupby('claimed_source').count()"
   ]
  },
  {
   "cell_type": "code",
   "execution_count": 14,
   "id": "730aee8d-84fd-4fbe-81ea-75a7e6c38feb",
   "metadata": {},
   "outputs": [
    {
     "data": {
      "text/html": [
       "<div>\n",
       "<style scoped>\n",
       "    .dataframe tbody tr th:only-of-type {\n",
       "        vertical-align: middle;\n",
       "    }\n",
       "\n",
       "    .dataframe tbody tr th {\n",
       "        vertical-align: top;\n",
       "    }\n",
       "\n",
       "    .dataframe thead th {\n",
       "        text-align: right;\n",
       "    }\n",
       "</style>\n",
       "<table border=\"1\" class=\"dataframe\">\n",
       "  <thead>\n",
       "    <tr style=\"text-align: right;\">\n",
       "      <th></th>\n",
       "      <th>author</th>\n",
       "      <th>date</th>\n",
       "      <th>title</th>\n",
       "      <th>content</th>\n",
       "      <th>url</th>\n",
       "      <th>source</th>\n",
       "      <th>tags</th>\n",
       "      <th>summary</th>\n",
       "      <th>categories</th>\n",
       "      <th>subjects</th>\n",
       "    </tr>\n",
       "    <tr>\n",
       "      <th>claimed_source</th>\n",
       "      <th></th>\n",
       "      <th></th>\n",
       "      <th></th>\n",
       "      <th></th>\n",
       "      <th></th>\n",
       "      <th></th>\n",
       "      <th></th>\n",
       "      <th></th>\n",
       "      <th></th>\n",
       "      <th></th>\n",
       "    </tr>\n",
       "  </thead>\n",
       "  <tbody>\n",
       "    <tr>\n",
       "      <th></th>\n",
       "      <td>1</td>\n",
       "      <td>1</td>\n",
       "      <td>1</td>\n",
       "      <td>1</td>\n",
       "      <td>1</td>\n",
       "      <td>1</td>\n",
       "      <td>1</td>\n",
       "      <td>1</td>\n",
       "      <td>1</td>\n",
       "      <td>1</td>\n",
       "    </tr>\n",
       "    <tr>\n",
       "      <th>źródło: IAR</th>\n",
       "      <td>30</td>\n",
       "      <td>30</td>\n",
       "      <td>30</td>\n",
       "      <td>30</td>\n",
       "      <td>30</td>\n",
       "      <td>30</td>\n",
       "      <td>30</td>\n",
       "      <td>30</td>\n",
       "      <td>6</td>\n",
       "      <td>6</td>\n",
       "    </tr>\n",
       "    <tr>\n",
       "      <th>źródło: IAR, PAP</th>\n",
       "      <td>3</td>\n",
       "      <td>3</td>\n",
       "      <td>3</td>\n",
       "      <td>3</td>\n",
       "      <td>3</td>\n",
       "      <td>3</td>\n",
       "      <td>3</td>\n",
       "      <td>3</td>\n",
       "      <td>0</td>\n",
       "      <td>0</td>\n",
       "    </tr>\n",
       "    <tr>\n",
       "      <th>źródło: IAR, Twitter</th>\n",
       "      <td>23</td>\n",
       "      <td>23</td>\n",
       "      <td>23</td>\n",
       "      <td>23</td>\n",
       "      <td>23</td>\n",
       "      <td>23</td>\n",
       "      <td>23</td>\n",
       "      <td>23</td>\n",
       "      <td>6</td>\n",
       "      <td>6</td>\n",
       "    </tr>\n",
       "    <tr>\n",
       "      <th>źródło: KAI</th>\n",
       "      <td>1</td>\n",
       "      <td>1</td>\n",
       "      <td>1</td>\n",
       "      <td>1</td>\n",
       "      <td>1</td>\n",
       "      <td>1</td>\n",
       "      <td>1</td>\n",
       "      <td>1</td>\n",
       "      <td>1</td>\n",
       "      <td>1</td>\n",
       "    </tr>\n",
       "    <tr>\n",
       "      <th>źródło: KPRM</th>\n",
       "      <td>5</td>\n",
       "      <td>5</td>\n",
       "      <td>5</td>\n",
       "      <td>5</td>\n",
       "      <td>5</td>\n",
       "      <td>5</td>\n",
       "      <td>5</td>\n",
       "      <td>5</td>\n",
       "      <td>0</td>\n",
       "      <td>0</td>\n",
       "    </tr>\n",
       "    <tr>\n",
       "      <th>źródło: KPRP</th>\n",
       "      <td>4</td>\n",
       "      <td>4</td>\n",
       "      <td>4</td>\n",
       "      <td>4</td>\n",
       "      <td>4</td>\n",
       "      <td>4</td>\n",
       "      <td>4</td>\n",
       "      <td>4</td>\n",
       "      <td>1</td>\n",
       "      <td>1</td>\n",
       "    </tr>\n",
       "    <tr>\n",
       "      <th>źródło: KPRP, IAR, Twitter</th>\n",
       "      <td>1</td>\n",
       "      <td>1</td>\n",
       "      <td>1</td>\n",
       "      <td>1</td>\n",
       "      <td>1</td>\n",
       "      <td>1</td>\n",
       "      <td>1</td>\n",
       "      <td>1</td>\n",
       "      <td>0</td>\n",
       "      <td>0</td>\n",
       "    </tr>\n",
       "    <tr>\n",
       "      <th>źródło: KPRP, PAP, IAR, Twitter</th>\n",
       "      <td>1</td>\n",
       "      <td>1</td>\n",
       "      <td>1</td>\n",
       "      <td>1</td>\n",
       "      <td>1</td>\n",
       "      <td>1</td>\n",
       "      <td>1</td>\n",
       "      <td>1</td>\n",
       "      <td>0</td>\n",
       "      <td>0</td>\n",
       "    </tr>\n",
       "    <tr>\n",
       "      <th>źródło: KPRP, PAP, Twitter</th>\n",
       "      <td>1</td>\n",
       "      <td>1</td>\n",
       "      <td>1</td>\n",
       "      <td>1</td>\n",
       "      <td>1</td>\n",
       "      <td>1</td>\n",
       "      <td>1</td>\n",
       "      <td>1</td>\n",
       "      <td>0</td>\n",
       "      <td>0</td>\n",
       "    </tr>\n",
       "    <tr>\n",
       "      <th>źródło: KPRP, Twitter</th>\n",
       "      <td>7</td>\n",
       "      <td>7</td>\n",
       "      <td>7</td>\n",
       "      <td>7</td>\n",
       "      <td>7</td>\n",
       "      <td>7</td>\n",
       "      <td>7</td>\n",
       "      <td>7</td>\n",
       "      <td>1</td>\n",
       "      <td>1</td>\n",
       "    </tr>\n",
       "    <tr>\n",
       "      <th>źródło: PAP</th>\n",
       "      <td>799</td>\n",
       "      <td>799</td>\n",
       "      <td>799</td>\n",
       "      <td>799</td>\n",
       "      <td>799</td>\n",
       "      <td>799</td>\n",
       "      <td>799</td>\n",
       "      <td>799</td>\n",
       "      <td>278</td>\n",
       "      <td>278</td>\n",
       "    </tr>\n",
       "    <tr>\n",
       "      <th>źródło: PAP, Facebook</th>\n",
       "      <td>7</td>\n",
       "      <td>7</td>\n",
       "      <td>7</td>\n",
       "      <td>7</td>\n",
       "      <td>7</td>\n",
       "      <td>7</td>\n",
       "      <td>7</td>\n",
       "      <td>7</td>\n",
       "      <td>0</td>\n",
       "      <td>0</td>\n",
       "    </tr>\n",
       "    <tr>\n",
       "      <th>źródło: PAP, IAR</th>\n",
       "      <td>2</td>\n",
       "      <td>2</td>\n",
       "      <td>2</td>\n",
       "      <td>2</td>\n",
       "      <td>2</td>\n",
       "      <td>2</td>\n",
       "      <td>2</td>\n",
       "      <td>2</td>\n",
       "      <td>0</td>\n",
       "      <td>0</td>\n",
       "    </tr>\n",
       "    <tr>\n",
       "      <th>źródło: PAP, IAR, Twitter</th>\n",
       "      <td>3</td>\n",
       "      <td>3</td>\n",
       "      <td>3</td>\n",
       "      <td>3</td>\n",
       "      <td>3</td>\n",
       "      <td>3</td>\n",
       "      <td>3</td>\n",
       "      <td>3</td>\n",
       "      <td>1</td>\n",
       "      <td>1</td>\n",
       "    </tr>\n",
       "    <tr>\n",
       "      <th>źródło: PAP, KPRP</th>\n",
       "      <td>1</td>\n",
       "      <td>1</td>\n",
       "      <td>1</td>\n",
       "      <td>1</td>\n",
       "      <td>1</td>\n",
       "      <td>1</td>\n",
       "      <td>1</td>\n",
       "      <td>1</td>\n",
       "      <td>0</td>\n",
       "      <td>0</td>\n",
       "    </tr>\n",
       "    <tr>\n",
       "      <th>źródło: PAP, KPRP, Twitter</th>\n",
       "      <td>1</td>\n",
       "      <td>1</td>\n",
       "      <td>1</td>\n",
       "      <td>1</td>\n",
       "      <td>1</td>\n",
       "      <td>1</td>\n",
       "      <td>1</td>\n",
       "      <td>1</td>\n",
       "      <td>0</td>\n",
       "      <td>0</td>\n",
       "    </tr>\n",
       "    <tr>\n",
       "      <th>źródło: PAP, Twitter</th>\n",
       "      <td>144</td>\n",
       "      <td>144</td>\n",
       "      <td>144</td>\n",
       "      <td>144</td>\n",
       "      <td>144</td>\n",
       "      <td>144</td>\n",
       "      <td>144</td>\n",
       "      <td>144</td>\n",
       "      <td>52</td>\n",
       "      <td>52</td>\n",
       "    </tr>\n",
       "    <tr>\n",
       "      <th>źródło: PAP., Twitter</th>\n",
       "      <td>1</td>\n",
       "      <td>1</td>\n",
       "      <td>1</td>\n",
       "      <td>1</td>\n",
       "      <td>1</td>\n",
       "      <td>1</td>\n",
       "      <td>1</td>\n",
       "      <td>1</td>\n",
       "      <td>0</td>\n",
       "      <td>0</td>\n",
       "    </tr>\n",
       "    <tr>\n",
       "      <th>źródło: sejm.gov.pl</th>\n",
       "      <td>1</td>\n",
       "      <td>1</td>\n",
       "      <td>1</td>\n",
       "      <td>1</td>\n",
       "      <td>1</td>\n",
       "      <td>1</td>\n",
       "      <td>1</td>\n",
       "      <td>1</td>\n",
       "      <td>0</td>\n",
       "      <td>0</td>\n",
       "    </tr>\n",
       "    <tr>\n",
       "      <th>źródło: senat.gov.pl, Twitter</th>\n",
       "      <td>1</td>\n",
       "      <td>1</td>\n",
       "      <td>1</td>\n",
       "      <td>1</td>\n",
       "      <td>1</td>\n",
       "      <td>1</td>\n",
       "      <td>1</td>\n",
       "      <td>1</td>\n",
       "      <td>0</td>\n",
       "      <td>0</td>\n",
       "    </tr>\n",
       "    <tr>\n",
       "      <th>pch24.pl</th>\n",
       "      <td>0</td>\n",
       "      <td>1872</td>\n",
       "      <td>1872</td>\n",
       "      <td>1871</td>\n",
       "      <td>1872</td>\n",
       "      <td>1872</td>\n",
       "      <td>1871</td>\n",
       "      <td>1871</td>\n",
       "      <td>454</td>\n",
       "      <td>454</td>\n",
       "    </tr>\n",
       "    <tr>\n",
       "      <th>wp.pl</th>\n",
       "      <td>1887</td>\n",
       "      <td>0</td>\n",
       "      <td>1914</td>\n",
       "      <td>1775</td>\n",
       "      <td>1914</td>\n",
       "      <td>1914</td>\n",
       "      <td>1774</td>\n",
       "      <td>1775</td>\n",
       "      <td>605</td>\n",
       "      <td>605</td>\n",
       "    </tr>\n",
       "  </tbody>\n",
       "</table>\n",
       "</div>"
      ],
      "text/plain": [
       "                                        author  date  title  content   url  \\\n",
       "claimed_source                                                               \n",
       "                                             1     1      1        1     1   \n",
       "    źródło: IAR                             30    30     30       30    30   \n",
       "    źródło: IAR, PAP                         3     3      3        3     3   \n",
       "    źródło: IAR, Twitter                    23    23     23       23    23   \n",
       "    źródło: KAI                              1     1      1        1     1   \n",
       "    źródło: KPRM                             5     5      5        5     5   \n",
       "    źródło: KPRP                             4     4      4        4     4   \n",
       "    źródło: KPRP, IAR, Twitter               1     1      1        1     1   \n",
       "    źródło: KPRP, PAP, IAR, Twitter          1     1      1        1     1   \n",
       "    źródło: KPRP, PAP, Twitter               1     1      1        1     1   \n",
       "    źródło: KPRP, Twitter                    7     7      7        7     7   \n",
       "    źródło: PAP                            799   799    799      799   799   \n",
       "    źródło: PAP, Facebook                    7     7      7        7     7   \n",
       "    źródło: PAP, IAR                         2     2      2        2     2   \n",
       "    źródło: PAP, IAR, Twitter                3     3      3        3     3   \n",
       "    źródło: PAP, KPRP                        1     1      1        1     1   \n",
       "    źródło: PAP, KPRP, Twitter               1     1      1        1     1   \n",
       "    źródło: PAP, Twitter                   144   144    144      144   144   \n",
       "    źródło: PAP., Twitter                    1     1      1        1     1   \n",
       "    źródło: sejm.gov.pl                      1     1      1        1     1   \n",
       "    źródło: senat.gov.pl, Twitter            1     1      1        1     1   \n",
       "pch24.pl                                     0  1872   1872     1871  1872   \n",
       "wp.pl                                     1887     0   1914     1775  1914   \n",
       "\n",
       "                                        source  tags  summary  categories  \\\n",
       "claimed_source                                                              \n",
       "                                             1     1        1           1   \n",
       "    źródło: IAR                             30    30       30           6   \n",
       "    źródło: IAR, PAP                         3     3        3           0   \n",
       "    źródło: IAR, Twitter                    23    23       23           6   \n",
       "    źródło: KAI                              1     1        1           1   \n",
       "    źródło: KPRM                             5     5        5           0   \n",
       "    źródło: KPRP                             4     4        4           1   \n",
       "    źródło: KPRP, IAR, Twitter               1     1        1           0   \n",
       "    źródło: KPRP, PAP, IAR, Twitter          1     1        1           0   \n",
       "    źródło: KPRP, PAP, Twitter               1     1        1           0   \n",
       "    źródło: KPRP, Twitter                    7     7        7           1   \n",
       "    źródło: PAP                            799   799      799         278   \n",
       "    źródło: PAP, Facebook                    7     7        7           0   \n",
       "    źródło: PAP, IAR                         2     2        2           0   \n",
       "    źródło: PAP, IAR, Twitter                3     3        3           1   \n",
       "    źródło: PAP, KPRP                        1     1        1           0   \n",
       "    źródło: PAP, KPRP, Twitter               1     1        1           0   \n",
       "    źródło: PAP, Twitter                   144   144      144          52   \n",
       "    źródło: PAP., Twitter                    1     1        1           0   \n",
       "    źródło: sejm.gov.pl                      1     1        1           0   \n",
       "    źródło: senat.gov.pl, Twitter            1     1        1           0   \n",
       "pch24.pl                                  1872  1871     1871         454   \n",
       "wp.pl                                     1914  1774     1775         605   \n",
       "\n",
       "                                        subjects  \n",
       "claimed_source                                    \n",
       "                                               1  \n",
       "    źródło: IAR                                6  \n",
       "    źródło: IAR, PAP                           0  \n",
       "    źródło: IAR, Twitter                       6  \n",
       "    źródło: KAI                                1  \n",
       "    źródło: KPRM                               0  \n",
       "    źródło: KPRP                               1  \n",
       "    źródło: KPRP, IAR, Twitter                 0  \n",
       "    źródło: KPRP, PAP, IAR, Twitter            0  \n",
       "    źródło: KPRP, PAP, Twitter                 0  \n",
       "    źródło: KPRP, Twitter                      1  \n",
       "    źródło: PAP                              278  \n",
       "    źródło: PAP, Facebook                      0  \n",
       "    źródło: PAP, IAR                           0  \n",
       "    źródło: PAP, IAR, Twitter                  1  \n",
       "    źródło: PAP, KPRP                          0  \n",
       "    źródło: PAP, KPRP, Twitter                 0  \n",
       "    źródło: PAP, Twitter                      52  \n",
       "    źródło: PAP., Twitter                      0  \n",
       "    źródło: sejm.gov.pl                        0  \n",
       "    źródło: senat.gov.pl, Twitter              0  \n",
       "pch24.pl                                     454  \n",
       "wp.pl                                        605  "
      ]
     },
     "execution_count": 14,
     "metadata": {},
     "output_type": "execute_result"
    }
   ],
   "source": [
    "df_grouped"
   ]
  },
  {
   "cell_type": "code",
   "execution_count": 15,
   "id": "2f95d86b-507e-4afd-b492-8009fca82957",
   "metadata": {},
   "outputs": [
    {
     "data": {
      "text/html": [
       "<div>\n",
       "<style scoped>\n",
       "    .dataframe tbody tr th:only-of-type {\n",
       "        vertical-align: middle;\n",
       "    }\n",
       "\n",
       "    .dataframe tbody tr th {\n",
       "        vertical-align: top;\n",
       "    }\n",
       "\n",
       "    .dataframe thead th {\n",
       "        text-align: right;\n",
       "    }\n",
       "</style>\n",
       "<table border=\"1\" class=\"dataframe\">\n",
       "  <thead>\n",
       "    <tr style=\"text-align: right;\">\n",
       "      <th></th>\n",
       "      <th>author</th>\n",
       "      <th>date</th>\n",
       "      <th>title</th>\n",
       "      <th>content</th>\n",
       "      <th>url</th>\n",
       "      <th>source</th>\n",
       "      <th>tags</th>\n",
       "      <th>summary</th>\n",
       "      <th>categories</th>\n",
       "      <th>subjects</th>\n",
       "    </tr>\n",
       "    <tr>\n",
       "      <th>claimed_source</th>\n",
       "      <th></th>\n",
       "      <th></th>\n",
       "      <th></th>\n",
       "      <th></th>\n",
       "      <th></th>\n",
       "      <th></th>\n",
       "      <th></th>\n",
       "      <th></th>\n",
       "      <th></th>\n",
       "      <th></th>\n",
       "    </tr>\n",
       "  </thead>\n",
       "  <tbody>\n",
       "    <tr>\n",
       "      <th>źródło: IAR</th>\n",
       "      <td>30</td>\n",
       "      <td>30</td>\n",
       "      <td>30</td>\n",
       "      <td>30</td>\n",
       "      <td>30</td>\n",
       "      <td>30</td>\n",
       "      <td>30</td>\n",
       "      <td>30</td>\n",
       "      <td>6</td>\n",
       "      <td>6</td>\n",
       "    </tr>\n",
       "    <tr>\n",
       "      <th>źródło: IAR, Twitter</th>\n",
       "      <td>23</td>\n",
       "      <td>23</td>\n",
       "      <td>23</td>\n",
       "      <td>23</td>\n",
       "      <td>23</td>\n",
       "      <td>23</td>\n",
       "      <td>23</td>\n",
       "      <td>23</td>\n",
       "      <td>6</td>\n",
       "      <td>6</td>\n",
       "    </tr>\n",
       "    <tr>\n",
       "      <th>źródło: PAP</th>\n",
       "      <td>799</td>\n",
       "      <td>799</td>\n",
       "      <td>799</td>\n",
       "      <td>799</td>\n",
       "      <td>799</td>\n",
       "      <td>799</td>\n",
       "      <td>799</td>\n",
       "      <td>799</td>\n",
       "      <td>278</td>\n",
       "      <td>278</td>\n",
       "    </tr>\n",
       "    <tr>\n",
       "      <th>źródło: PAP, Twitter</th>\n",
       "      <td>144</td>\n",
       "      <td>144</td>\n",
       "      <td>144</td>\n",
       "      <td>144</td>\n",
       "      <td>144</td>\n",
       "      <td>144</td>\n",
       "      <td>144</td>\n",
       "      <td>144</td>\n",
       "      <td>52</td>\n",
       "      <td>52</td>\n",
       "    </tr>\n",
       "    <tr>\n",
       "      <th>pch24.pl</th>\n",
       "      <td>0</td>\n",
       "      <td>1872</td>\n",
       "      <td>1872</td>\n",
       "      <td>1871</td>\n",
       "      <td>1872</td>\n",
       "      <td>1872</td>\n",
       "      <td>1871</td>\n",
       "      <td>1871</td>\n",
       "      <td>454</td>\n",
       "      <td>454</td>\n",
       "    </tr>\n",
       "    <tr>\n",
       "      <th>wp.pl</th>\n",
       "      <td>1887</td>\n",
       "      <td>0</td>\n",
       "      <td>1914</td>\n",
       "      <td>1775</td>\n",
       "      <td>1914</td>\n",
       "      <td>1914</td>\n",
       "      <td>1774</td>\n",
       "      <td>1775</td>\n",
       "      <td>605</td>\n",
       "      <td>605</td>\n",
       "    </tr>\n",
       "  </tbody>\n",
       "</table>\n",
       "</div>"
      ],
      "text/plain": [
       "                             author  date  title  content   url  source  tags  \\\n",
       "claimed_source                                                                  \n",
       "    źródło: IAR                  30    30     30       30    30      30    30   \n",
       "    źródło: IAR, Twitter         23    23     23       23    23      23    23   \n",
       "    źródło: PAP                 799   799    799      799   799     799   799   \n",
       "    źródło: PAP, Twitter        144   144    144      144   144     144   144   \n",
       "pch24.pl                          0  1872   1872     1871  1872    1872  1871   \n",
       "wp.pl                          1887     0   1914     1775  1914    1914  1774   \n",
       "\n",
       "                             summary  categories  subjects  \n",
       "claimed_source                                              \n",
       "    źródło: IAR                   30           6         6  \n",
       "    źródło: IAR, Twitter          23           6         6  \n",
       "    źródło: PAP                  799         278       278  \n",
       "    źródło: PAP, Twitter         144          52        52  \n",
       "pch24.pl                        1871         454       454  \n",
       "wp.pl                           1775         605       605  "
      ]
     },
     "execution_count": 15,
     "metadata": {},
     "output_type": "execute_result"
    }
   ],
   "source": [
    "df_grouped[df_grouped['title'] > 20]"
   ]
  },
  {
   "cell_type": "code",
   "execution_count": 27,
   "id": "d0650576-7ebd-42ae-af34-e399f62383ce",
   "metadata": {},
   "outputs": [],
   "source": [
    "df_grouped = df_grouped[df_grouped['title'] > 20]"
   ]
  },
  {
   "cell_type": "code",
   "execution_count": 28,
   "id": "d18c7066-0c75-4c3e-ab08-f6e091de35db",
   "metadata": {},
   "outputs": [
    {
     "data": {
      "text/plain": [
       "claimed_source\n",
       "    źródło: IAR                  30\n",
       "    źródło: IAR, Twitter         23\n",
       "    źródło: PAP                 799\n",
       "    źródło: PAP, Twitter        144\n",
       "pch24.pl                       1872\n",
       "wp.pl                          1914\n",
       "Name: title, dtype: int64"
      ]
     },
     "execution_count": 28,
     "metadata": {},
     "output_type": "execute_result"
    }
   ],
   "source": [
    "df_grouped['title']"
   ]
  },
  {
   "cell_type": "code",
   "execution_count": 23,
   "id": "0f6c31c3-88ad-43d0-a81a-c4075b38b18a",
   "metadata": {},
   "outputs": [],
   "source": [
    "import plotly.graph_objects as go"
   ]
  },
  {
   "cell_type": "code",
   "execution_count": 34,
   "id": "5a9d47a2-2747-42d3-a88e-9b07e8f62144",
   "metadata": {},
   "outputs": [
    {
     "data": {
      "application/vnd.plotly.v1+json": {
       "config": {
        "plotlyServerURL": "https://plot.ly"
       },
       "data": [
        {
         "type": "bar",
         "x": [
          "    źródło: IAR   ",
          "    źródło: IAR, Twitter   ",
          "    źródło: PAP   ",
          "    źródło: PAP, Twitter   ",
          "pch24.pl",
          "wp.pl"
         ],
         "y": [
          30,
          23,
          799,
          144,
          1872,
          1914
         ]
        }
       ],
       "layout": {
        "autosize": true,
        "template": {
         "data": {
          "bar": [
           {
            "error_x": {
             "color": "#2a3f5f"
            },
            "error_y": {
             "color": "#2a3f5f"
            },
            "marker": {
             "line": {
              "color": "#E5ECF6",
              "width": 0.5
             },
             "pattern": {
              "fillmode": "overlay",
              "size": 10,
              "solidity": 0.2
             }
            },
            "type": "bar"
           }
          ],
          "barpolar": [
           {
            "marker": {
             "line": {
              "color": "#E5ECF6",
              "width": 0.5
             },
             "pattern": {
              "fillmode": "overlay",
              "size": 10,
              "solidity": 0.2
             }
            },
            "type": "barpolar"
           }
          ],
          "carpet": [
           {
            "aaxis": {
             "endlinecolor": "#2a3f5f",
             "gridcolor": "white",
             "linecolor": "white",
             "minorgridcolor": "white",
             "startlinecolor": "#2a3f5f"
            },
            "baxis": {
             "endlinecolor": "#2a3f5f",
             "gridcolor": "white",
             "linecolor": "white",
             "minorgridcolor": "white",
             "startlinecolor": "#2a3f5f"
            },
            "type": "carpet"
           }
          ],
          "choropleth": [
           {
            "colorbar": {
             "outlinewidth": 0,
             "ticks": ""
            },
            "type": "choropleth"
           }
          ],
          "contour": [
           {
            "colorbar": {
             "outlinewidth": 0,
             "ticks": ""
            },
            "colorscale": [
             [
              0,
              "#0d0887"
             ],
             [
              0.1111111111111111,
              "#46039f"
             ],
             [
              0.2222222222222222,
              "#7201a8"
             ],
             [
              0.3333333333333333,
              "#9c179e"
             ],
             [
              0.4444444444444444,
              "#bd3786"
             ],
             [
              0.5555555555555556,
              "#d8576b"
             ],
             [
              0.6666666666666666,
              "#ed7953"
             ],
             [
              0.7777777777777778,
              "#fb9f3a"
             ],
             [
              0.8888888888888888,
              "#fdca26"
             ],
             [
              1,
              "#f0f921"
             ]
            ],
            "type": "contour"
           }
          ],
          "contourcarpet": [
           {
            "colorbar": {
             "outlinewidth": 0,
             "ticks": ""
            },
            "type": "contourcarpet"
           }
          ],
          "heatmap": [
           {
            "colorbar": {
             "outlinewidth": 0,
             "ticks": ""
            },
            "colorscale": [
             [
              0,
              "#0d0887"
             ],
             [
              0.1111111111111111,
              "#46039f"
             ],
             [
              0.2222222222222222,
              "#7201a8"
             ],
             [
              0.3333333333333333,
              "#9c179e"
             ],
             [
              0.4444444444444444,
              "#bd3786"
             ],
             [
              0.5555555555555556,
              "#d8576b"
             ],
             [
              0.6666666666666666,
              "#ed7953"
             ],
             [
              0.7777777777777778,
              "#fb9f3a"
             ],
             [
              0.8888888888888888,
              "#fdca26"
             ],
             [
              1,
              "#f0f921"
             ]
            ],
            "type": "heatmap"
           }
          ],
          "heatmapgl": [
           {
            "colorbar": {
             "outlinewidth": 0,
             "ticks": ""
            },
            "colorscale": [
             [
              0,
              "#0d0887"
             ],
             [
              0.1111111111111111,
              "#46039f"
             ],
             [
              0.2222222222222222,
              "#7201a8"
             ],
             [
              0.3333333333333333,
              "#9c179e"
             ],
             [
              0.4444444444444444,
              "#bd3786"
             ],
             [
              0.5555555555555556,
              "#d8576b"
             ],
             [
              0.6666666666666666,
              "#ed7953"
             ],
             [
              0.7777777777777778,
              "#fb9f3a"
             ],
             [
              0.8888888888888888,
              "#fdca26"
             ],
             [
              1,
              "#f0f921"
             ]
            ],
            "type": "heatmapgl"
           }
          ],
          "histogram": [
           {
            "marker": {
             "pattern": {
              "fillmode": "overlay",
              "size": 10,
              "solidity": 0.2
             }
            },
            "type": "histogram"
           }
          ],
          "histogram2d": [
           {
            "colorbar": {
             "outlinewidth": 0,
             "ticks": ""
            },
            "colorscale": [
             [
              0,
              "#0d0887"
             ],
             [
              0.1111111111111111,
              "#46039f"
             ],
             [
              0.2222222222222222,
              "#7201a8"
             ],
             [
              0.3333333333333333,
              "#9c179e"
             ],
             [
              0.4444444444444444,
              "#bd3786"
             ],
             [
              0.5555555555555556,
              "#d8576b"
             ],
             [
              0.6666666666666666,
              "#ed7953"
             ],
             [
              0.7777777777777778,
              "#fb9f3a"
             ],
             [
              0.8888888888888888,
              "#fdca26"
             ],
             [
              1,
              "#f0f921"
             ]
            ],
            "type": "histogram2d"
           }
          ],
          "histogram2dcontour": [
           {
            "colorbar": {
             "outlinewidth": 0,
             "ticks": ""
            },
            "colorscale": [
             [
              0,
              "#0d0887"
             ],
             [
              0.1111111111111111,
              "#46039f"
             ],
             [
              0.2222222222222222,
              "#7201a8"
             ],
             [
              0.3333333333333333,
              "#9c179e"
             ],
             [
              0.4444444444444444,
              "#bd3786"
             ],
             [
              0.5555555555555556,
              "#d8576b"
             ],
             [
              0.6666666666666666,
              "#ed7953"
             ],
             [
              0.7777777777777778,
              "#fb9f3a"
             ],
             [
              0.8888888888888888,
              "#fdca26"
             ],
             [
              1,
              "#f0f921"
             ]
            ],
            "type": "histogram2dcontour"
           }
          ],
          "mesh3d": [
           {
            "colorbar": {
             "outlinewidth": 0,
             "ticks": ""
            },
            "type": "mesh3d"
           }
          ],
          "parcoords": [
           {
            "line": {
             "colorbar": {
              "outlinewidth": 0,
              "ticks": ""
             }
            },
            "type": "parcoords"
           }
          ],
          "pie": [
           {
            "automargin": true,
            "type": "pie"
           }
          ],
          "scatter": [
           {
            "fillpattern": {
             "fillmode": "overlay",
             "size": 10,
             "solidity": 0.2
            },
            "type": "scatter"
           }
          ],
          "scatter3d": [
           {
            "line": {
             "colorbar": {
              "outlinewidth": 0,
              "ticks": ""
             }
            },
            "marker": {
             "colorbar": {
              "outlinewidth": 0,
              "ticks": ""
             }
            },
            "type": "scatter3d"
           }
          ],
          "scattercarpet": [
           {
            "marker": {
             "colorbar": {
              "outlinewidth": 0,
              "ticks": ""
             }
            },
            "type": "scattercarpet"
           }
          ],
          "scattergeo": [
           {
            "marker": {
             "colorbar": {
              "outlinewidth": 0,
              "ticks": ""
             }
            },
            "type": "scattergeo"
           }
          ],
          "scattergl": [
           {
            "marker": {
             "colorbar": {
              "outlinewidth": 0,
              "ticks": ""
             }
            },
            "type": "scattergl"
           }
          ],
          "scattermapbox": [
           {
            "marker": {
             "colorbar": {
              "outlinewidth": 0,
              "ticks": ""
             }
            },
            "type": "scattermapbox"
           }
          ],
          "scatterpolar": [
           {
            "marker": {
             "colorbar": {
              "outlinewidth": 0,
              "ticks": ""
             }
            },
            "type": "scatterpolar"
           }
          ],
          "scatterpolargl": [
           {
            "marker": {
             "colorbar": {
              "outlinewidth": 0,
              "ticks": ""
             }
            },
            "type": "scatterpolargl"
           }
          ],
          "scatterternary": [
           {
            "marker": {
             "colorbar": {
              "outlinewidth": 0,
              "ticks": ""
             }
            },
            "type": "scatterternary"
           }
          ],
          "surface": [
           {
            "colorbar": {
             "outlinewidth": 0,
             "ticks": ""
            },
            "colorscale": [
             [
              0,
              "#0d0887"
             ],
             [
              0.1111111111111111,
              "#46039f"
             ],
             [
              0.2222222222222222,
              "#7201a8"
             ],
             [
              0.3333333333333333,
              "#9c179e"
             ],
             [
              0.4444444444444444,
              "#bd3786"
             ],
             [
              0.5555555555555556,
              "#d8576b"
             ],
             [
              0.6666666666666666,
              "#ed7953"
             ],
             [
              0.7777777777777778,
              "#fb9f3a"
             ],
             [
              0.8888888888888888,
              "#fdca26"
             ],
             [
              1,
              "#f0f921"
             ]
            ],
            "type": "surface"
           }
          ],
          "table": [
           {
            "cells": {
             "fill": {
              "color": "#EBF0F8"
             },
             "line": {
              "color": "white"
             }
            },
            "header": {
             "fill": {
              "color": "#C8D4E3"
             },
             "line": {
              "color": "white"
             }
            },
            "type": "table"
           }
          ]
         },
         "layout": {
          "annotationdefaults": {
           "arrowcolor": "#2a3f5f",
           "arrowhead": 0,
           "arrowwidth": 1
          },
          "autotypenumbers": "strict",
          "coloraxis": {
           "colorbar": {
            "outlinewidth": 0,
            "ticks": ""
           }
          },
          "colorscale": {
           "diverging": [
            [
             0,
             "#8e0152"
            ],
            [
             0.1,
             "#c51b7d"
            ],
            [
             0.2,
             "#de77ae"
            ],
            [
             0.3,
             "#f1b6da"
            ],
            [
             0.4,
             "#fde0ef"
            ],
            [
             0.5,
             "#f7f7f7"
            ],
            [
             0.6,
             "#e6f5d0"
            ],
            [
             0.7,
             "#b8e186"
            ],
            [
             0.8,
             "#7fbc41"
            ],
            [
             0.9,
             "#4d9221"
            ],
            [
             1,
             "#276419"
            ]
           ],
           "sequential": [
            [
             0,
             "#0d0887"
            ],
            [
             0.1111111111111111,
             "#46039f"
            ],
            [
             0.2222222222222222,
             "#7201a8"
            ],
            [
             0.3333333333333333,
             "#9c179e"
            ],
            [
             0.4444444444444444,
             "#bd3786"
            ],
            [
             0.5555555555555556,
             "#d8576b"
            ],
            [
             0.6666666666666666,
             "#ed7953"
            ],
            [
             0.7777777777777778,
             "#fb9f3a"
            ],
            [
             0.8888888888888888,
             "#fdca26"
            ],
            [
             1,
             "#f0f921"
            ]
           ],
           "sequentialminus": [
            [
             0,
             "#0d0887"
            ],
            [
             0.1111111111111111,
             "#46039f"
            ],
            [
             0.2222222222222222,
             "#7201a8"
            ],
            [
             0.3333333333333333,
             "#9c179e"
            ],
            [
             0.4444444444444444,
             "#bd3786"
            ],
            [
             0.5555555555555556,
             "#d8576b"
            ],
            [
             0.6666666666666666,
             "#ed7953"
            ],
            [
             0.7777777777777778,
             "#fb9f3a"
            ],
            [
             0.8888888888888888,
             "#fdca26"
            ],
            [
             1,
             "#f0f921"
            ]
           ]
          },
          "colorway": [
           "#636efa",
           "#EF553B",
           "#00cc96",
           "#ab63fa",
           "#FFA15A",
           "#19d3f3",
           "#FF6692",
           "#B6E880",
           "#FF97FF",
           "#FECB52"
          ],
          "font": {
           "color": "#2a3f5f"
          },
          "geo": {
           "bgcolor": "white",
           "lakecolor": "white",
           "landcolor": "#E5ECF6",
           "showlakes": true,
           "showland": true,
           "subunitcolor": "white"
          },
          "hoverlabel": {
           "align": "left"
          },
          "hovermode": "closest",
          "mapbox": {
           "style": "light"
          },
          "paper_bgcolor": "white",
          "plot_bgcolor": "#E5ECF6",
          "polar": {
           "angularaxis": {
            "gridcolor": "white",
            "linecolor": "white",
            "ticks": ""
           },
           "bgcolor": "#E5ECF6",
           "radialaxis": {
            "gridcolor": "white",
            "linecolor": "white",
            "ticks": ""
           }
          },
          "scene": {
           "xaxis": {
            "backgroundcolor": "#E5ECF6",
            "gridcolor": "white",
            "gridwidth": 2,
            "linecolor": "white",
            "showbackground": true,
            "ticks": "",
            "zerolinecolor": "white"
           },
           "yaxis": {
            "backgroundcolor": "#E5ECF6",
            "gridcolor": "white",
            "gridwidth": 2,
            "linecolor": "white",
            "showbackground": true,
            "ticks": "",
            "zerolinecolor": "white"
           },
           "zaxis": {
            "backgroundcolor": "#E5ECF6",
            "gridcolor": "white",
            "gridwidth": 2,
            "linecolor": "white",
            "showbackground": true,
            "ticks": "",
            "zerolinecolor": "white"
           }
          },
          "shapedefaults": {
           "line": {
            "color": "#2a3f5f"
           }
          },
          "ternary": {
           "aaxis": {
            "gridcolor": "white",
            "linecolor": "white",
            "ticks": ""
           },
           "baxis": {
            "gridcolor": "white",
            "linecolor": "white",
            "ticks": ""
           },
           "bgcolor": "#E5ECF6",
           "caxis": {
            "gridcolor": "white",
            "linecolor": "white",
            "ticks": ""
           }
          },
          "title": {
           "x": 0.05
          },
          "xaxis": {
           "automargin": true,
           "gridcolor": "white",
           "linecolor": "white",
           "ticks": "",
           "title": {
            "standoff": 15
           },
           "zerolinecolor": "white",
           "zerolinewidth": 2
          },
          "yaxis": {
           "automargin": true,
           "gridcolor": "white",
           "linecolor": "white",
           "ticks": "",
           "title": {
            "standoff": 15
           },
           "zerolinecolor": "white",
           "zerolinewidth": 2
          }
         }
        },
        "title": {
         "text": "Article count by source"
        },
        "xaxis": {
         "autorange": true,
         "range": [
          -0.5,
          5.5
         ],
         "title": {
          "text": "source(s)"
         },
         "type": "category"
        },
        "yaxis": {
         "autorange": true,
         "range": [
          0,
          2014.7368421052631
         ],
         "title": {
          "text": "count"
         },
         "type": "linear"
        }
       }
      },
      "image/png": "[encoded data removed]",
      "text/html": [
       "<div>                            <div id=\"e5105714-1f7a-4604-b440-2373b40696af\" class=\"plotly-graph-div\" style=\"height:525px; width:100%;\"></div>            <script type=\"text/javascript\">                require([\"plotly\"], function(Plotly) {                    window.PLOTLYENV=window.PLOTLYENV || {};                                    if (document.getElementById(\"e5105714-1f7a-4604-b440-2373b40696af\")) {                    Plotly.newPlot(                        \"e5105714-1f7a-4604-b440-2373b40696af\",                        [{\"x\":[\"  \\u00a0 \\u017ar\\u00f3d\\u0142o: IAR   \",\"  \\u00a0 \\u017ar\\u00f3d\\u0142o: IAR, Twitter   \",\"  \\u00a0 \\u017ar\\u00f3d\\u0142o: PAP   \",\"  \\u00a0 \\u017ar\\u00f3d\\u0142o: PAP, Twitter   \",\"pch24.pl\",\"wp.pl\"],\"y\":[30,23,799,144,1872,1914],\"type\":\"bar\"}],                        {\"title\":{\"text\":\"Article count by source\"},\"xaxis\":{\"title\":{\"text\":\"source(s)\"}},\"yaxis\":{\"title\":{\"text\":\"count\"}},\"template\":{\"data\":{\"histogram2dcontour\":[{\"type\":\"histogram2dcontour\",\"colorbar\":{\"outlinewidth\":0,\"ticks\":\"\"},\"colorscale\":[[0.0,\"#0d0887\"],[0.1111111111111111,\"#46039f\"],[0.2222222222222222,\"#7201a8\"],[0.3333333333333333,\"#9c179e\"],[0.4444444444444444,\"#bd3786\"],[0.5555555555555556,\"#d8576b\"],[0.6666666666666666,\"#ed7953\"],[0.7777777777777778,\"#fb9f3a\"],[0.8888888888888888,\"#fdca26\"],[1.0,\"#f0f921\"]]}],\"choropleth\":[{\"type\":\"choropleth\",\"colorbar\":{\"outlinewidth\":0,\"ticks\":\"\"}}],\"histogram2d\":[{\"type\":\"histogram2d\",\"colorbar\":{\"outlinewidth\":0,\"ticks\":\"\"},\"colorscale\":[[0.0,\"#0d0887\"],[0.1111111111111111,\"#46039f\"],[0.2222222222222222,\"#7201a8\"],[0.3333333333333333,\"#9c179e\"],[0.4444444444444444,\"#bd3786\"],[0.5555555555555556,\"#d8576b\"],[0.6666666666666666,\"#ed7953\"],[0.7777777777777778,\"#fb9f3a\"],[0.8888888888888888,\"#fdca26\"],[1.0,\"#f0f921\"]]}],\"heatmap\":[{\"type\":\"heatmap\",\"colorbar\":{\"outlinewidth\":0,\"ticks\":\"\"},\"colorscale\":[[0.0,\"#0d0887\"],[0.1111111111111111,\"#46039f\"],[0.2222222222222222,\"#7201a8\"],[0.3333333333333333,\"#9c179e\"],[0.4444444444444444,\"#bd3786\"],[0.5555555555555556,\"#d8576b\"],[0.6666666666666666,\"#ed7953\"],[0.7777777777777778,\"#fb9f3a\"],[0.8888888888888888,\"#fdca26\"],[1.0,\"#f0f921\"]]}],\"heatmapgl\":[{\"type\":\"heatmapgl\",\"colorbar\":{\"outlinewidth\":0,\"ticks\":\"\"},\"colorscale\":[[0.0,\"#0d0887\"],[0.1111111111111111,\"#46039f\"],[0.2222222222222222,\"#7201a8\"],[0.3333333333333333,\"#9c179e\"],[0.4444444444444444,\"#bd3786\"],[0.5555555555555556,\"#d8576b\"],[0.6666666666666666,\"#ed7953\"],[0.7777777777777778,\"#fb9f3a\"],[0.8888888888888888,\"#fdca26\"],[1.0,\"#f0f921\"]]}],\"contourcarpet\":[{\"type\":\"contourcarpet\",\"colorbar\":{\"outlinewidth\":0,\"ticks\":\"\"}}],\"contour\":[{\"type\":\"contour\",\"colorbar\":{\"outlinewidth\":0,\"ticks\":\"\"},\"colorscale\":[[0.0,\"#0d0887\"],[0.1111111111111111,\"#46039f\"],[0.2222222222222222,\"#7201a8\"],[0.3333333333333333,\"#9c179e\"],[0.4444444444444444,\"#bd3786\"],[0.5555555555555556,\"#d8576b\"],[0.6666666666666666,\"#ed7953\"],[0.7777777777777778,\"#fb9f3a\"],[0.8888888888888888,\"#fdca26\"],[1.0,\"#f0f921\"]]}],\"surface\":[{\"type\":\"surface\",\"colorbar\":{\"outlinewidth\":0,\"ticks\":\"\"},\"colorscale\":[[0.0,\"#0d0887\"],[0.1111111111111111,\"#46039f\"],[0.2222222222222222,\"#7201a8\"],[0.3333333333333333,\"#9c179e\"],[0.4444444444444444,\"#bd3786\"],[0.5555555555555556,\"#d8576b\"],[0.6666666666666666,\"#ed7953\"],[0.7777777777777778,\"#fb9f3a\"],[0.8888888888888888,\"#fdca26\"],[1.0,\"#f0f921\"]]}],\"mesh3d\":[{\"type\":\"mesh3d\",\"colorbar\":{\"outlinewidth\":0,\"ticks\":\"\"}}],\"scatter\":[{\"fillpattern\":{\"fillmode\":\"overlay\",\"size\":10,\"solidity\":0.2},\"type\":\"scatter\"}],\"parcoords\":[{\"type\":\"parcoords\",\"line\":{\"colorbar\":{\"outlinewidth\":0,\"ticks\":\"\"}}}],\"scatterpolargl\":[{\"type\":\"scatterpolargl\",\"marker\":{\"colorbar\":{\"outlinewidth\":0,\"ticks\":\"\"}}}],\"bar\":[{\"error_x\":{\"color\":\"#2a3f5f\"},\"error_y\":{\"color\":\"#2a3f5f\"},\"marker\":{\"line\":{\"color\":\"#E5ECF6\",\"width\":0.5},\"pattern\":{\"fillmode\":\"overlay\",\"size\":10,\"solidity\":0.2}},\"type\":\"bar\"}],\"scattergeo\":[{\"type\":\"scattergeo\",\"marker\":{\"colorbar\":{\"outlinewidth\":0,\"ticks\":\"\"}}}],\"scatterpolar\":[{\"type\":\"scatterpolar\",\"marker\":{\"colorbar\":{\"outlinewidth\":0,\"ticks\":\"\"}}}],\"histogram\":[{\"marker\":{\"pattern\":{\"fillmode\":\"overlay\",\"size\":10,\"solidity\":0.2}},\"type\":\"histogram\"}],\"scattergl\":[{\"type\":\"scattergl\",\"marker\":{\"colorbar\":{\"outlinewidth\":0,\"ticks\":\"\"}}}],\"scatter3d\":[{\"type\":\"scatter3d\",\"line\":{\"colorbar\":{\"outlinewidth\":0,\"ticks\":\"\"}},\"marker\":{\"colorbar\":{\"outlinewidth\":0,\"ticks\":\"\"}}}],\"scattermapbox\":[{\"type\":\"scattermapbox\",\"marker\":{\"colorbar\":{\"outlinewidth\":0,\"ticks\":\"\"}}}],\"scatterternary\":[{\"type\":\"scatterternary\",\"marker\":{\"colorbar\":{\"outlinewidth\":0,\"ticks\":\"\"}}}],\"scattercarpet\":[{\"type\":\"scattercarpet\",\"marker\":{\"colorbar\":{\"outlinewidth\":0,\"ticks\":\"\"}}}],\"carpet\":[{\"aaxis\":{\"endlinecolor\":\"#2a3f5f\",\"gridcolor\":\"white\",\"linecolor\":\"white\",\"minorgridcolor\":\"white\",\"startlinecolor\":\"#2a3f5f\"},\"baxis\":{\"endlinecolor\":\"#2a3f5f\",\"gridcolor\":\"white\",\"linecolor\":\"white\",\"minorgridcolor\":\"white\",\"startlinecolor\":\"#2a3f5f\"},\"type\":\"carpet\"}],\"table\":[{\"cells\":{\"fill\":{\"color\":\"#EBF0F8\"},\"line\":{\"color\":\"white\"}},\"header\":{\"fill\":{\"color\":\"#C8D4E3\"},\"line\":{\"color\":\"white\"}},\"type\":\"table\"}],\"barpolar\":[{\"marker\":{\"line\":{\"color\":\"#E5ECF6\",\"width\":0.5},\"pattern\":{\"fillmode\":\"overlay\",\"size\":10,\"solidity\":0.2}},\"type\":\"barpolar\"}],\"pie\":[{\"automargin\":true,\"type\":\"pie\"}]},\"layout\":{\"autotypenumbers\":\"strict\",\"colorway\":[\"#636efa\",\"#EF553B\",\"#00cc96\",\"#ab63fa\",\"#FFA15A\",\"#19d3f3\",\"#FF6692\",\"#B6E880\",\"#FF97FF\",\"#FECB52\"],\"font\":{\"color\":\"#2a3f5f\"},\"hovermode\":\"closest\",\"hoverlabel\":{\"align\":\"left\"},\"paper_bgcolor\":\"white\",\"plot_bgcolor\":\"#E5ECF6\",\"polar\":{\"bgcolor\":\"#E5ECF6\",\"angularaxis\":{\"gridcolor\":\"white\",\"linecolor\":\"white\",\"ticks\":\"\"},\"radialaxis\":{\"gridcolor\":\"white\",\"linecolor\":\"white\",\"ticks\":\"\"}},\"ternary\":{\"bgcolor\":\"#E5ECF6\",\"aaxis\":{\"gridcolor\":\"white\",\"linecolor\":\"white\",\"ticks\":\"\"},\"baxis\":{\"gridcolor\":\"white\",\"linecolor\":\"white\",\"ticks\":\"\"},\"caxis\":{\"gridcolor\":\"white\",\"linecolor\":\"white\",\"ticks\":\"\"}},\"coloraxis\":{\"colorbar\":{\"outlinewidth\":0,\"ticks\":\"\"}},\"colorscale\":{\"sequential\":[[0.0,\"#0d0887\"],[0.1111111111111111,\"#46039f\"],[0.2222222222222222,\"#7201a8\"],[0.3333333333333333,\"#9c179e\"],[0.4444444444444444,\"#bd3786\"],[0.5555555555555556,\"#d8576b\"],[0.6666666666666666,\"#ed7953\"],[0.7777777777777778,\"#fb9f3a\"],[0.8888888888888888,\"#fdca26\"],[1.0,\"#f0f921\"]],\"sequentialminus\":[[0.0,\"#0d0887\"],[0.1111111111111111,\"#46039f\"],[0.2222222222222222,\"#7201a8\"],[0.3333333333333333,\"#9c179e\"],[0.4444444444444444,\"#bd3786\"],[0.5555555555555556,\"#d8576b\"],[0.6666666666666666,\"#ed7953\"],[0.7777777777777778,\"#fb9f3a\"],[0.8888888888888888,\"#fdca26\"],[1.0,\"#f0f921\"]],\"diverging\":[[0,\"#8e0152\"],[0.1,\"#c51b7d\"],[0.2,\"#de77ae\"],[0.3,\"#f1b6da\"],[0.4,\"#fde0ef\"],[0.5,\"#f7f7f7\"],[0.6,\"#e6f5d0\"],[0.7,\"#b8e186\"],[0.8,\"#7fbc41\"],[0.9,\"#4d9221\"],[1,\"#276419\"]]},\"xaxis\":{\"gridcolor\":\"white\",\"linecolor\":\"white\",\"ticks\":\"\",\"title\":{\"standoff\":15},\"zerolinecolor\":\"white\",\"automargin\":true,\"zerolinewidth\":2},\"yaxis\":{\"gridcolor\":\"white\",\"linecolor\":\"white\",\"ticks\":\"\",\"title\":{\"standoff\":15},\"zerolinecolor\":\"white\",\"automargin\":true,\"zerolinewidth\":2},\"scene\":{\"xaxis\":{\"backgroundcolor\":\"#E5ECF6\",\"gridcolor\":\"white\",\"linecolor\":\"white\",\"showbackground\":true,\"ticks\":\"\",\"zerolinecolor\":\"white\",\"gridwidth\":2},\"yaxis\":{\"backgroundcolor\":\"#E5ECF6\",\"gridcolor\":\"white\",\"linecolor\":\"white\",\"showbackground\":true,\"ticks\":\"\",\"zerolinecolor\":\"white\",\"gridwidth\":2},\"zaxis\":{\"backgroundcolor\":\"#E5ECF6\",\"gridcolor\":\"white\",\"linecolor\":\"white\",\"showbackground\":true,\"ticks\":\"\",\"zerolinecolor\":\"white\",\"gridwidth\":2}},\"shapedefaults\":{\"line\":{\"color\":\"#2a3f5f\"}},\"annotationdefaults\":{\"arrowcolor\":\"#2a3f5f\",\"arrowhead\":0,\"arrowwidth\":1},\"geo\":{\"bgcolor\":\"white\",\"landcolor\":\"#E5ECF6\",\"subunitcolor\":\"white\",\"showland\":true,\"showlakes\":true,\"lakecolor\":\"white\"},\"title\":{\"x\":0.05},\"mapbox\":{\"style\":\"light\"}}}},                        {\"responsive\": true}                    ).then(function(){\n",
       "                            \n",
       "var gd = document.getElementById('e5105714-1f7a-4604-b440-2373b40696af');\n",
       "var x = new MutationObserver(function (mutations, observer) {{\n",
       "        var display = window.getComputedStyle(gd).display;\n",
       "        if (!display || display === 'none') {{\n",
       "            console.log([gd, 'removed!']);\n",
       "            Plotly.purge(gd);\n",
       "            observer.disconnect();\n",
       "        }}\n",
       "}});\n",
       "\n",
       "// Listen for the removal of the full notebook cells\n",
       "var notebookContainer = gd.closest('#notebook-container');\n",
       "if (notebookContainer) {{\n",
       "    x.observe(notebookContainer, {childList: true});\n",
       "}}\n",
       "\n",
       "// Listen for the clearing of the current output cell\n",
       "var outputEl = gd.closest('.output');\n",
       "if (outputEl) {{\n",
       "    x.observe(outputEl, {childList: true});\n",
       "}}\n",
       "\n",
       "                        })                };                });            </script>        </div>"
      ]
     },
     "metadata": {},
     "output_type": "display_data"
    }
   ],
   "source": [
    "go.Figure(\n",
    "    layout={'title': 'Article count by source',\n",
    "           'xaxis': {'title': 'source(s)'},\n",
    "           'yaxis': {'title': 'count'}},\n",
    "    data=go.Bar(x=df_grouped.index, y=df_grouped['title'])\n",
    ")"
   ]
  },
  {
   "cell_type": "code",
   "execution_count": null,
   "id": "0f2cc5e4-2c6f-4c73-94ee-b81bd87968e8",
   "metadata": {},
   "outputs": [],
   "source": []
  }
 ],
 "metadata": {
  "kernelspec": {
   "display_name": "Python 3 (ipykernel)",
   "language": "python",
   "name": "python3"
  },
  "language_info": {
   "codemirror_mode": {
    "name": "ipython",
    "version": 3
   },
   "file_extension": ".py",
   "mimetype": "text/x-python",
   "name": "python",
   "nbconvert_exporter": "python",
   "pygments_lexer": "ipython3",
   "version": "3.9.7"
  }
 },
 "nbformat": 4,
 "nbformat_minor": 5
}
