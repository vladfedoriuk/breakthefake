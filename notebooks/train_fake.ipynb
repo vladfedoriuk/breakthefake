{
 "cells": [
  {
   "cell_type": "code",
   "execution_count": 8,
   "metadata": {
    "pycharm": {
     "is_executing": true
    }
   },
   "outputs": [],
   "source": [
    "from sklearn.feature_extraction.text import TfidfVectorizer\n",
    "from sklearn.model_selection import train_test_split\n",
    "import numpy as np\n",
    "from random import shuffle\n",
    "import pickle as pkl\n",
    "import glob\n",
    "import ujson\n",
    "from sklearn import svm\n",
    "import pandas as pd\n",
    "from sklearn.metrics import classification_report\n",
    "\n",
    "with open('../data/stopwords.txt', 'r') as f:\n",
    "    STOP_WORDS = f.read().splitlines()\n",
    "\n",
    "TOPIC_COLUMN = \"content\"\n",
    "DATABASE_PATH = '../scrapping/demagog/dataset.csv'\n",
    "\n",
    "df = pd.read_csv(DATABASE_PATH)\n",
    "df = df.loc[df['content'].notna()]\n",
    "df = df.loc[df['label'].isin(\n",
    "    ['Prawda', 'Fałsz', 'Częściowy fałsz', 'Manipulacja'])]\n",
    "df['category'] = df['label'].apply(lambda x: 1 if x == 'Prawda' else 0)\n",
    "num = 20000\n",
    "min_df = 2\n",
    "max_df = 0.1\n",
    "v = TfidfVectorizer(\n",
    "    input='content',\n",
    "    encoding='utf-8',\n",
    "    decode_error='replace',\n",
    "    # strip_accents='unicode',\n",
    "    lowercase=True,\n",
    "    analyzer='word',\n",
    "    stop_words=STOP_WORDS,\n",
    "    # token_pattern=r'(?u)\\b[a-zA-Z_][a-zA-Z0-9_]+\\b',\n",
    "    ngram_range=(1, 2),\n",
    "    max_features=num,\n",
    "    norm='l2',\n",
    "    use_idf=True,\n",
    "    smooth_idf=True,\n",
    "    sublinear_tf=True,\n",
    "    max_df=max_df,\n",
    "    min_df=min_df)\n",
    "\n",
    "X = v.fit_transform(df[TOPIC_COLUMN])\n",
    "X_train, X_test, y_train, y_test = train_test_split(X,\n",
    "                                                    df['category'],\n",
    "                                                    test_size=0.2,\n",
    "                                                    random_state=42)"
   ]
  },
  {
   "cell_type": "code",
   "execution_count": 9,
   "metadata": {},
   "outputs": [
    {
     "name": "stdout",
     "output_type": "stream",
     "text": [
      "              precision    recall  f1-score   support\n",
      "\n",
      "           0       0.78      0.52      0.62       118\n",
      "           1       0.75      0.91      0.82       187\n",
      "\n",
      "    accuracy                           0.76       305\n",
      "   macro avg       0.77      0.71      0.72       305\n",
      "weighted avg       0.76      0.76      0.74       305\n",
      "\n"
     ]
    }
   ],
   "source": [
    "import sklearn.gaussian_process as gp\n",
    "from sklearn.linear_model import LogisticRegression\n",
    "from skopt import BayesSearchCV\n",
    "from skopt.space import Real, Categorical, Integer\n",
    "\n",
    "model = BayesSearchCV(\n",
    "    svm.SVC(kernel='linear', probability=True),\n",
    "    {\n",
    "        'C': Real(1e-6, 1e+6, prior='log-uniform'),\n",
    "        # 'gamma': Real(1e-6, 1e+1, prior='log-uniform'),\n",
    "        # 'degree': Integer(1,8),\n",
    "        # 'kernel': Categorical(['linear', 'poly', 'rbf']),\n",
    "    },\n",
    "    n_iter=32,\n",
    "    scoring='f1_macro',\n",
    "    random_state=42)\n",
    "# model = LogisticRegression(C=1.0, max_iter=5000)\n",
    "# model = svm.SVC(kernel='linear', C=1.0, probability=True)\n",
    "model.fit(X_train, y_train)\n",
    "y_pred = model.predict(X_test)\n",
    "print(classification_report(y_test, y_pred))"
   ]
  },
  {
   "cell_type": "code",
   "execution_count": 19,
   "metadata": {},
   "outputs": [],
   "source": [
    "test_df = pd.read_csv(\"../data/database.csv\", lineterminator=\"\\n\")\n",
    "test_df = test_df[test_df[\"summary\"].notna()]\n",
    "X = v.transform(test_df[\"summary\"])"
   ]
  },
  {
   "cell_type": "code",
   "execution_count": 21,
   "metadata": {},
   "outputs": [],
   "source": [
    "test_df['probability_fake'] = model.predict_proba(X)[:, 0].tolist()\n",
    "test_df.to_csv(\"../data/database_with_proba.csv\")"
   ]
  },
  {
   "cell_type": "code",
   "execution_count": null,
   "metadata": {},
   "outputs": [],
   "source": [
    "df.to_pickle('../data/database_predicted.pkl')"
   ]
  },
  {
   "cell_type": "code",
   "execution_count": null,
   "metadata": {},
   "outputs": [],
   "source": [
    "import joblib\n",
    "# dump\n",
    "joblib.dump(model, '../models/svm.pkl')\n",
    "# read\n",
    "model = joblib.load('../models/svm.pkl')"
   ]
  },
  {
   "cell_type": "code",
   "execution_count": null,
   "metadata": {},
   "outputs": [],
   "source": []
  }
 ],
 "metadata": {
  "kernelspec": {
   "display_name": "Python 3 (ipykernel)",
   "language": "python",
   "name": "python3"
  },
  "language_info": {
   "codemirror_mode": {
    "name": "ipython",
    "version": 3
   },
   "file_extension": ".py",
   "mimetype": "text/x-python",
   "name": "python",
   "nbconvert_exporter": "python",
   "pygments_lexer": "ipython3",
   "version": "3.10.5"
  },
  "vscode": {
   "interpreter": {
    "hash": "85d34352ec5f34beb2ee874dec5a2adc6222abd0e60cbf09497ea4ec3f643732"
   }
  }
 },
 "nbformat": 4,
 "nbformat_minor": 2
}
