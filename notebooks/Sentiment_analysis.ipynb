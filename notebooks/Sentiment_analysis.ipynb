{
  "nbformat": 4,
  "nbformat_minor": 0,
  "metadata": {
    "colab": {
      "provenance": []
    },
    "kernelspec": {
      "name": "python3",
      "display_name": "Python 3"
    },
    "language_info": {
      "name": "python"
    },
    "accelerator": "GPU",
    "gpuClass": "standard"
  },
  "cells": [
    {
      "cell_type": "code",
      "source": [
        "!pip install transformers"
      ],
      "metadata": {
        "id": "TZWimr0M-kJ1"
      },
      "execution_count": null,
      "outputs": []
    },
    {
      "cell_type": "code",
      "source": [
        "from pandas import read_csv"
      ],
      "metadata": {
        "id": "aIqY36TZKryw"
      },
      "execution_count": null,
      "outputs": []
    },
    {
      "cell_type": "code",
      "source": [
        "import numpy as np\n",
        "from transformers import AutoTokenizer, AutoModelForSequenceClassification"
      ],
      "metadata": {
        "id": "qnzS2DzeJJdr"
      },
      "execution_count": null,
      "outputs": []
    },
    {
      "cell_type": "code",
      "execution_count": null,
      "metadata": {
        "id": "Yk4-WDNKCDsl"
      },
      "outputs": [],
      "source": [
        "def calc_sentiment(input):\n",
        "  # id2label = {0: \"negative\", 1: \"neutral\", 2: \"positive\"}\n",
        "  tokenizer = AutoTokenizer.from_pretrained(\"Voicelab/herbert-base-cased-sentiment\")\n",
        "  model = AutoModelForSequenceClassification.from_pretrained(\"Voicelab/herbert-base-cased-sentiment\").to(\"cuda:0\")\n",
        "  encoding = tokenizer(\n",
        "            input,\n",
        "            add_special_tokens=True,\n",
        "            return_token_type_ids=True,\n",
        "            truncation=True,\n",
        "            padding='max_length',\n",
        "            return_attention_mask=True,\n",
        "            return_tensors='pt',\n",
        "          ).to(\"cuda:0\")\n",
        "  output = model(**encoding).logits.to(\"cuda:0\").detach().cpu().numpy()\n",
        "  # prediction = id2label[np.argmax(output)]\n",
        "  prediction = np.argmax(output)\n",
        "  return prediction"
      ]
    },
    {
      "cell_type": "code",
      "source": [
        "import time\n",
        "\n",
        "class Timer:\n",
        "    _start_time = None\n",
        "    @classmethod\n",
        "    def start_measure(cls):\n",
        "        cls._start_time = time.perf_counter()\n",
        "\n",
        "    @classmethod\n",
        "    def get_time(cls):\n",
        "        return time.perf_counter() - cls._start_time\n",
        "\n",
        "    @classmethod\n",
        "    def print_time_elapsed(cls):\n",
        "        print('Time elapsed: {:.3f} s'.format(cls.get_time()))\n"
      ],
      "metadata": {
        "id": "nX587n45QOl_"
      },
      "execution_count": null,
      "outputs": []
    },
    {
      "cell_type": "code",
      "source": [
        "df = read_csv(\"database.csv\", lineterminator='\\n')\n",
        "# Ignore N/A subjects\n",
        "df_filtered = df[df['subjects'].notna()]"
      ],
      "metadata": {
        "id": "8JBWhwXSKu_I"
      },
      "execution_count": null,
      "outputs": []
    },
    {
      "cell_type": "code",
      "source": [
        "df_filtered['sentiment'] = df_filtered['summary'].apply(calc_sentiment)\n",
        "df_filtered.to_csv('df_out_sample.csv')"
      ],
      "metadata": {
        "id": "INnBnBIXz0vF"
      },
      "execution_count": null,
      "outputs": []
    },
    {
      "cell_type": "markdown",
      "source": [
        "Try on dataframe small parts"
      ],
      "metadata": {
        "id": "akuRhsPVdYYh"
      }
    },
    {
      "cell_type": "code",
      "source": [
        " "
      ],
      "metadata": {
        "id": "PnHiBXy1dlAd"
      },
      "execution_count": null,
      "outputs": []
    },
    {
      "cell_type": "code",
      "source": [
        "df_sample = df.loc[:10]\n",
        "df_sample_30 = df.loc[:30]"
      ],
      "metadata": {
        "id": "ccU7vhINPS4A"
      },
      "execution_count": null,
      "outputs": []
    },
    {
      "cell_type": "code",
      "source": [
        "Timer.start_measure()\n",
        "df_sample['sentiment'] = df_sample['summary'].apply(calc_sentiment)\n",
        "Timer.print_time_elapsed()"
      ],
      "metadata": {
        "id": "QMctM_1RPurA"
      },
      "execution_count": null,
      "outputs": []
    },
    {
      "cell_type": "code",
      "source": [
        "Timer.start_measure()\n",
        "df_sample['sentiment'] = df_sample['summary'].apply(calc_sentiment)\n",
        "Timer.print_time_elapsed()\n",
        "\n",
        "Timer.start_measure()\n",
        "df_sample['sentiment_title'] = df_sample['title'].apply(calc_sentiment)\n",
        "Timer.print_time_elapsed()\n",
        "\n",
        "Timer.start_measure()\n",
        "df_sample_30['sentiment'] = df_sample_30['summary'].apply(calc_sentiment)\n",
        "Timer.print_time_elapsed()\n",
        "\n",
        "Timer.start_measure()\n",
        "df_sample_30['sentiment_title'] = df_sample_30['title'].apply(calc_sentiment)\n",
        "Timer.print_time_elapsed()"
      ],
      "metadata": {
        "id": "QAFS6qhmSZ5X"
      },
      "execution_count": null,
      "outputs": []
    }
  ]
}